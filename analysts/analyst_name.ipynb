{
 "metadata": {
  "name": "",
  "signature": "sha256:3b0c994e017276b611b907a651e0426191760ff74528362c101871b706fadeea"
 },
 "nbformat": 3,
 "nbformat_minor": 0,
 "worksheets": [
  {
   "cells": [
    {
     "cell_type": "markdown",
     "metadata": {},
     "source": [
      "This is a placeholder; the notebooks in this director should be named after the analyst who created it. "
     ]
    }
   ],
   "metadata": {}
  }
 ]
}